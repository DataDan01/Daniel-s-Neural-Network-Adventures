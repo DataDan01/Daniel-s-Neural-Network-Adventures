{
 "cells": [
  {
   "cell_type": "markdown",
   "metadata": {},
   "source": [
    "Trying to load in the data"
   ]
  },
  {
   "cell_type": "code",
   "execution_count": 47,
   "metadata": {
    "collapsed": false
   },
   "outputs": [
    {
     "ename": "LoadError",
     "evalue": "LoadError: MethodError: no method matching joinpath(::Base.Filesystem.#pwd, ::String)\nClosest candidates are:\n  joinpath(!Matched::String, ::String) at path.jl:79\n  joinpath(!Matched::AbstractString, ::AbstractString) at path.jl:88\n  joinpath(!Matched::AbstractString, ::AbstractString, !Matched::AbstractString...) at path.jl:76\nwhile loading In[47], in expression starting on line 5",
     "output_type": "error",
     "traceback": [
      "LoadError: MethodError: no method matching joinpath(::Base.Filesystem.#pwd, ::String)\nClosest candidates are:\n  joinpath(!Matched::String, ::String) at path.jl:79\n  joinpath(!Matched::AbstractString, ::AbstractString) at path.jl:88\n  joinpath(!Matched::AbstractString, ::AbstractString, !Matched::AbstractString...) at path.jl:76\nwhile loading In[47], in expression starting on line 5",
      ""
     ]
    }
   ],
   "source": [
    "pwd()\n",
    "\n",
    "using DataFrames\n",
    "\n",
    "joinpath(pwd(),\"data\")\n",
    "\n",
    "#df = readtable(\"./data/datatest.txt\")"
   ]
  }
 ],
 "metadata": {
  "kernelspec": {
   "display_name": "Julia 0.5.0",
   "language": "julia",
   "name": "julia-0.5"
  },
  "language_info": {
   "file_extension": ".jl",
   "mimetype": "application/julia",
   "name": "julia",
   "version": "0.5.0"
  }
 },
 "nbformat": 4,
 "nbformat_minor": 0
}
